{
 "cells": [
  {
   "cell_type": "markdown",
   "metadata": {},
   "source": [
    "# Week 3 Task 1"
   ]
  },
  {
   "cell_type": "code",
   "execution_count": 28,
   "metadata": {},
   "outputs": [],
   "source": [
    "import math\n",
    "import scipy.optimize\n",
    "import numpy as np\n",
    "import matplotlib.pyplot as plt"
   ]
  },
  {
   "cell_type": "code",
   "execution_count": 37,
   "metadata": {},
   "outputs": [],
   "source": [
    "def f(x):\n",
    "    return math.sin(x / 5.0) * math.exp(x / 10.0) + 5 * math.exp(-x / 2.0)"
   ]
  },
  {
   "cell_type": "code",
   "execution_count": 39,
   "metadata": {},
   "outputs": [
    {
     "name": "stdout",
     "output_type": "stream",
     "text": [
      "[ 1.  2.  3.  4.  5.  6.  7.  8.  9. 10. 11. 12. 13. 14. 15. 16. 17. 18.\n",
      " 19. 20. 21. 22. 23. 24. 25. 26. 27. 28. 29. 30.]\n",
      "[  3.25221687   2.31503384   1.87783842   1.74684595   1.7977761\n",
      "   1.94722128   2.13543898   2.31617016   2.45082365   2.50541641\n",
      "   2.44929128   2.2550105    1.89904466   1.36300335   0.63522142\n",
      "  -0.28745171  -1.39780121  -2.67647563  -4.09044301  -5.59182909\n",
      "  -7.11729817  -8.58813805  -9.91120472 -10.98086747 -11.68207055\n",
      " -11.89459075 -11.49852141 -10.38095272  -8.44374503  -5.61220878]\n"
     ]
    },
    {
     "data": {
      "image/png": "[encoded data removed]",
      "text/plain": [
       "<Figure size 432x288 with 1 Axes>"
      ]
     },
     "metadata": {
      "needs_background": "light"
     },
     "output_type": "display_data"
    }
   ],
   "source": [
    "xArray = np.arange(1., 31.)\n",
    "print xArray\n",
    "yArray = np.array([f(x) for x in xArray])\n",
    "print yArray\n",
    "plt.plot(xArray, yArray)\n",
    "plt.grid(True)\n",
    "plt.show()"
   ]
  },
  {
   "cell_type": "code",
   "execution_count": 45,
   "metadata": {},
   "outputs": [
    {
     "name": "stdout",
     "output_type": "stream",
     "text": [
      "-11.898894666\n"
     ]
    }
   ],
   "source": [
    "minimum = scipy.optimize.minimize(f, [30.])\n",
    "print minimum.fun"
   ]
  },
  {
   "cell_type": "code",
   "execution_count": 50,
   "metadata": {},
   "outputs": [
    {
     "name": "stdout",
     "output_type": "stream",
     "text": [
      "1.75\n"
     ]
    }
   ],
   "source": [
    "minimum = scipy.optimize.minimize(f, 2, method='BFGS')\n",
    "answer1 = round(minimum.fun, 2)\n",
    "print answer1"
   ]
  },
  {
   "cell_type": "code",
   "execution_count": 56,
   "metadata": {},
   "outputs": [
    {
     "name": "stdout",
     "output_type": "stream",
     "text": [
      "1.75   -11.9\n"
     ]
    }
   ],
   "source": [
    "minimum = scipy.optimize.minimize(f, 30, method='BFGS')\n",
    "answer2 = round(minimum.fun, 2)\n",
    "print answer1,\n",
    "print ' ',\n",
    "print answer2"
   ]
  },
  {
   "cell_type": "code",
   "execution_count": 58,
   "metadata": {},
   "outputs": [],
   "source": [
    "answerFile = open('answerW1t1.txt', 'a')\n",
    "answerFile.write(str(answer1))\n",
    "answerFile.write(' ')\n",
    "answerFile.write(str(answer2))\n",
    "answerFile.close()"
   ]
  },
  {
   "cell_type": "code",
   "execution_count": null,
   "metadata": {},
   "outputs": [],
   "source": []
  }
 ],
 "metadata": {
  "kernelspec": {
   "display_name": "Python 2",
   "language": "python",
   "name": "python2"
  },
  "language_info": {
   "codemirror_mode": {
    "name": "ipython",
    "version": 2
   },
   "file_extension": ".py",
   "mimetype": "text/x-python",
   "name": "python",
   "nbconvert_exporter": "python",
   "pygments_lexer": "ipython2",
   "version": "2.7.16"
  }
 },
 "nbformat": 4,
 "nbformat_minor": 2
}
