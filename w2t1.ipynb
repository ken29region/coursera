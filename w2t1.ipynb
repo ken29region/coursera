{
 "cells": [
  {
   "cell_type": "code",
   "execution_count": 59,
   "metadata": {},
   "outputs": [],
   "source": [
    "import codecs\n",
    "sentences_file = codecs.open('sentences.txt', 'r', encoding = 'utf8')"
   ]
  },
  {
   "cell_type": "code",
   "execution_count": 60,
   "metadata": {},
   "outputs": [],
   "source": [
    "#data_list = list(sentences_file)\n",
    "import numpy as np\n",
    "data_list = []\n",
    "for line in sentences_file:\n",
    "    data_list.append(line.lower().strip())"
   ]
  },
  {
   "cell_type": "code",
   "execution_count": 61,
   "metadata": {},
   "outputs": [
    {
     "name": "stdout",
     "output_type": "stream",
     "text": [
      "[u'in comparison to dogs, cats have not undergone major changes during the domestication process.', u'as cat simply catenates streams of bytes, it can be also used to concatenate binary files, where it will just concatenate sequence of bytes.', u'a common interactive use of cat for a single file is to output the content of a file to standard output.', u'cats can hear sounds too faint or too high in frequency for human ears, such as those made by mice and other small animals.', u'in one, people deliberately tamed cats in a process of artificial selection, as they were useful predators of vermin.', u'the domesticated cat and its closest wild ancestor are both diploid organisms that possess 38 chromosomes and roughly 20,000 genes.', u'domestic cats are similar in size to the other members of the genus felis, typically weighing between 4 and 5 kg (8.8 and 11.0 lb).', u'however, if the output is piped or redirected, cat is unnecessary.', u'cat with one named file is safer where human error is a concern - one wrong use of the default redirection symbol \">\" instead of \"<\" (often adjacent on keyboards) may permanently delete the file you were just needing to read.', u'in terms of legibility, a sequence of commands starting with cat and connected by pipes has a clear left-to-right flow of information.', u'cat command is one of the basic commands that you learned when you started in the unix / linux world.', u'using cat command, the lines received from stdin can be redirected to a new file using redirection symbols.', u'when you type simply cat command without any arguments, it just receives the stdin content and displays it in the stdout.', u'leopard was released on october 26, 2007 as the successor of tiger (version 10.4), and is available in two editions.', u'according to apple, leopard contains over 300 changes and enhancements over its predecessor, mac os x tiger.', u'as of mid 2010, some apple computers have firmware factory installed which will no longer allow installation of mac os x leopard.', u'since apple moved to using intel processors in their computers, the osx86 community has developed and now also allows mac os x tiger and later releases to be installed on non-apple x86-based computers.', u\"os x mountain lion was released on july 25, 2012 for purchase and download through apple's mac app store, as part of a switch to releasing os x versions online and every year.\", u'apple has released a small patch for the three most recent versions of safari running on os x yosemite, mavericks, and mountain lion.', u'the mountain lion release marks the second time apple has offered an incremental upgrade, rather than releasing a new cat entirely.', u\"mac os x mountain lion installs in place, so you won't need to create a separate disk or run the installation off an external drive.\", u\"the fifth major update to mac os x, leopard, contains such a mountain of features - more than 300 by apple's count.\", 'world']\n"
     ]
    }
   ],
   "source": [
    "data_list.append(\"world\")\n",
    "print data_list"
   ]
  },
  {
   "cell_type": "code",
   "execution_count": null,
   "metadata": {},
   "outputs": [],
   "source": []
  }
 ],
 "metadata": {
  "kernelspec": {
   "display_name": "Python 2",
   "language": "python",
   "name": "python2"
  },
  "language_info": {
   "codemirror_mode": {
    "name": "ipython",
    "version": 2
   },
   "file_extension": ".py",
   "mimetype": "text/x-python",
   "name": "python",
   "nbconvert_exporter": "python",
   "pygments_lexer": "ipython2",
   "version": "2.7.16"
  },
  "widgets": {
   "application/vnd.jupyter.widget-state+json": {
    "state": {},
    "version_major": 2,
    "version_minor": 0
   }
  }
 },
 "nbformat": 4,
 "nbformat_minor": 2
}
