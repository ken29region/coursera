{
 "cells": [
  {
   "cell_type": "code",
   "execution_count": 25,
   "metadata": {},
   "outputs": [],
   "source": [
    "import codecs\n",
    "sentences_file = codecs.open('sentences.txt', 'r', encoding = 'utf8')"
   ]
  },
  {
   "cell_type": "code",
   "execution_count": 26,
   "metadata": {},
   "outputs": [],
   "source": [
    "import numpy as np\n",
    "sentences = np.array([])\n",
    "for line in sentences_file:\n",
    "    sentences = np.append(sentences, line.lower().strip())"
   ]
  },
  {
   "cell_type": "code",
   "execution_count": 60,
   "metadata": {},
   "outputs": [],
   "source": [
    "import re\n",
    "\n",
    "d = {}\n",
    "i = 0\n",
    "\n",
    "for row in sentences:\n",
    "    words = re.split('[^a-z]*', row)\n",
    "    for word in words:\n",
    "        if(word != ''):\n",
    "            d.update({word: i})\n",
    "            i += 1\n",
    "        else:\n",
    "            continue"
   ]
  },
  {
   "cell_type": "code",
   "execution_count": 58,
   "metadata": {},
   "outputs": [
    {
     "name": "stdout",
     "output_type": "stream",
     "text": [
      "[337, 94, 406, 261, 340, 298, 101, 120, 155, 354, 250, 373, 160, 10, 318, 299, 464, 477, 87, 429, 140, 462, 467, 447, 86, 420, 425, 300, 356, 315, 189, 17, 7, 76, 391, 469, 96, 6, 330, 342, 115, 331, 178, 37, 151, 398, 39, 397, 144, 436, 159, 72, 34, 210, 175, 85, 308, 441, 69, 267, 392, 372, 191, 164, 211, 161, 111, 399, 204, 326, 313, 93, 265, 282, 456, 136, 434, 224, 401, 146, 99, 285, 353, 135, 471, 119, 141, 57, 419, 112, 129, 470, 359, 158, 480, 408, 221, 458, 232, 442, 193, 187, 344, 289, 368, 350, 468, 482, 18, 262, 279, 40, 295, 455, 413, 465, 64, 98, 481, 377, 338, 217, 407, 230, 254, 231, 62, 125, 122, 167, 239, 297, 422, 334, 451, 472, 287, 448, 249, 121, 66, 220, 288, 365, 3, 378, 478, 29, 351, 222, 227, 426, 432, 454, 348, 395, 380, 61, 461, 459, 78, 199, 479, 75, 180, 483, 276, 82, 412, 404, 170, 253, 379, 435, 316, 241, 185, 108, 123, 181, 133, 475, 360, 311, 271, 91, 476, 284, 238, 328, 268, 460, 67, 46, 428, 247, 443, 449, 103, 258, 12, 142, 28, 332, 317, 430, 453, 312, 251, 307, 343, 128, 259, 176, 389, 173, 446, 109, 25, 116, 107, 213, 179, 172, 195, 466, 402, 166, 202, 411, 473, 1, 403, 474, 370, 132, 138, 113, 134, 207, 264, 237, 118, 445, 383, 257, 256, 444, 319, 423, 243, 463, 198, 208]\n"
     ]
    }
   ],
   "source": [
    "print d.values()"
   ]
  },
  {
   "cell_type": "code",
   "execution_count": null,
   "metadata": {},
   "outputs": [],
   "source": []
  }
 ],
 "metadata": {
  "kernelspec": {
   "display_name": "Python 2",
   "language": "python",
   "name": "python2"
  },
  "language_info": {
   "codemirror_mode": {
    "name": "ipython",
    "version": 2
   },
   "file_extension": ".py",
   "mimetype": "text/x-python",
   "name": "python",
   "nbconvert_exporter": "python",
   "pygments_lexer": "ipython2",
   "version": "2.7.16"
  },
  "widgets": {
   "application/vnd.jupyter.widget-state+json": {
    "state": {},
    "version_major": 2,
    "version_minor": 0
   }
  }
 },
 "nbformat": 4,
 "nbformat_minor": 2
}
