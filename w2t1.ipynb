{
 "cells": [
  {
   "cell_type": "code",
   "execution_count": 1,
   "metadata": {},
   "outputs": [],
   "source": [
    "import codecs\n",
    "sentences_file = codecs.open('sentences.txt', 'r', encoding = 'utf8')"
   ]
  },
  {
   "cell_type": "code",
   "execution_count": 2,
   "metadata": {},
   "outputs": [],
   "source": [
    "import numpy as np\n",
    "sentences = np.array([])\n",
    "for line in sentences_file:\n",
    "    sentences = np.append(sentences, line.lower().strip())\n",
    "sentences_file.close()"
   ]
  },
  {
   "cell_type": "code",
   "execution_count": 3,
   "metadata": {},
   "outputs": [],
   "source": [
    "import re\n",
    "\n",
    "d = {}\n",
    "i = 0\n",
    "\n",
    "for row in sentences:\n",
    "    words = re.split('[^a-z]*', row)\n",
    "    for word in words:\n",
    "        if(word != ''):\n",
    "            if((word in d.keys()) == False):\n",
    "                d.update({word: i})\n",
    "                i += 1\n",
    "        else:\n",
    "            continue"
   ]
  },
  {
   "cell_type": "code",
   "execution_count": 4,
   "metadata": {},
   "outputs": [
    {
     "name": "stdout",
     "output_type": "stream",
     "text": [
      "(22L, 254L)\n"
     ]
    }
   ],
   "source": [
    "matrix = np.zeros((len(sentences), len(d)))\n",
    "print matrix.shape"
   ]
  },
  {
   "cell_type": "code",
   "execution_count": 5,
   "metadata": {},
   "outputs": [
    {
     "name": "stdout",
     "output_type": "stream",
     "text": [
      "[[1. 1. 1. ... 0. 0. 0.]\n",
      " [0. 0. 1. ... 0. 0. 0.]\n",
      " [0. 0. 2. ... 0. 0. 0.]\n",
      " ...\n",
      " [0. 0. 0. ... 0. 0. 0.]\n",
      " [1. 0. 1. ... 0. 0. 0.]\n",
      " [0. 0. 1. ... 1. 1. 1.]]\n"
     ]
    }
   ],
   "source": [
    "from collections import Counter\n",
    "i = 0\n",
    "for row in sentences:\n",
    "    words = re.split('[^a-z]*', row)\n",
    "    for word in words:\n",
    "        if((word in d.keys()) != False):\n",
    "            c = words.count(word)\n",
    "            j = d.get(word)\n",
    "            matrix[i][j] = c\n",
    "    i += 1\n",
    "print matrix"
   ]
  },
  {
   "cell_type": "code",
   "execution_count": 6,
   "metadata": {},
   "outputs": [],
   "source": [
    "from scipy.spatial import distance"
   ]
  },
  {
   "cell_type": "code",
   "execution_count": 38,
   "metadata": {},
   "outputs": [],
   "source": [
    "result = {}\n",
    "i = 1\n",
    "while i < 22:\n",
    "    c = distance.cosine(matrix[0], matrix[i])\n",
    "    result.update({i: c})\n",
    "    \n",
    "    i += 1"
   ]
  },
  {
   "cell_type": "code",
   "execution_count": 39,
   "metadata": {},
   "outputs": [
    {
     "name": "stdout",
     "output_type": "stream",
     "text": [
      "0.7327387580875756 0.7770887149698589\n"
     ]
    }
   ],
   "source": [
    "minimum = min([x for x in result.values()])\n",
    "k = result.keys()[result.values().index(minimum)]\n",
    "del result[k]\n",
    "\n",
    "s = \"%s%s\" % (minimum, ' ')\n",
    "\n",
    "minimum = min([x for x in result.values()])\n",
    "k = result.keys()[result.values().index(minimum)]\n",
    "\n",
    "s = \"%s%s\" % (s, minimum,)\n",
    "\n",
    "print s "
   ]
  },
  {
   "cell_type": "code",
   "execution_count": 40,
   "metadata": {},
   "outputs": [],
   "source": [
    "result_file = open('w2t1_Klepikov_Egor.txt', 'w')\n",
    "result_file.write(s)\n",
    "result_file.close()"
   ]
  },
  {
   "cell_type": "code",
   "execution_count": null,
   "metadata": {},
   "outputs": [],
   "source": []
  }
 ],
 "metadata": {
  "kernelspec": {
   "display_name": "Python 2",
   "language": "python",
   "name": "python2"
  },
  "language_info": {
   "codemirror_mode": {
    "name": "ipython",
    "version": 2
   },
   "file_extension": ".py",
   "mimetype": "text/x-python",
   "name": "python",
   "nbconvert_exporter": "python",
   "pygments_lexer": "ipython2",
   "version": "2.7.16"
  },
  "widgets": {
   "application/vnd.jupyter.widget-state+json": {
    "state": {},
    "version_major": 2,
    "version_minor": 0
   }
  }
 },
 "nbformat": 4,
 "nbformat_minor": 2
}
